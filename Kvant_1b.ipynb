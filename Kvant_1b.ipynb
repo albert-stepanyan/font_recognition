{
 "cells": [
  {
   "cell_type": "code",
   "execution_count": 1,
   "id": "60fd01fa-7846-4a61-813c-a012bb7ef208",
   "metadata": {},
   "outputs": [],
   "source": [
    "import pandas as pd\n",
    "import numpy as np\n",
    "import matplotlib.pyplot as plt\n",
    "from keras.layers import Dense, Flatten\n",
    "from sklearn.model_selection import train_test_split\n",
    "from keras.models import Sequential\n",
    "import cv2\n",
    "from sklearn.preprocessing import OneHotEncoder\n",
    "from tensorflow.keras.optimizers import Adam"
   ]
  },
  {
   "cell_type": "code",
   "execution_count": 2,
   "id": "fdf0bd2a-9adb-446a-bb2b-53827a834094",
   "metadata": {},
   "outputs": [],
   "source": [
    "import warnings\n",
    "warnings.filterwarnings('ignore')"
   ]
  },
  {
   "cell_type": "code",
   "execution_count": 3,
   "id": "f8851e04-41dc-4aa1-8909-21033487a69b",
   "metadata": {},
   "outputs": [
    {
     "name": "stdout",
     "output_type": "stream",
     "text": [
      "\u001b[38;5;19m Выведем список используемых шрифтов: \u001b[0m\n",
      "\u001b[38;5;19m Aguante \u001b[0m\n",
      "\u001b[38;5;19m Alumni Sans Collegiate One Italic \u001b[0m\n",
      "\u001b[38;5;19m Alumni Sans Collegiate One Regular \u001b[0m\n",
      "\u001b[38;5;19m Ambidexter \u001b[0m\n",
      "\u001b[38;5;19m Aref Ruqaa Ink Bold \u001b[0m\n",
      "\u001b[38;5;19m Aref Ruqaa Ink Regular \u001b[0m\n",
      "\u001b[38;5;19m BRASS MONO Bold \u001b[0m\n",
      "\u001b[38;5;19m BRASS MONO Bold Italic \u001b[0m\n",
      "\u001b[38;5;19m BRASS MONO Bold Regular \u001b[0m\n",
      "\u001b[38;5;19m BRASS MONO Italic \u001b[0m\n",
      "\u001b[38;5;19m Better VCR 5.2 \u001b[0m\n",
      "\u001b[38;5;19m Ganesha Type Regular \u001b[0m\n",
      "\u001b[38;5;19m Ghastly Panic \u001b[0m\n",
      "\u001b[38;5;19m Realest Extended \u001b[0m\n",
      "\u001b[38;5;19m Tana Uncial SP \u001b[0m\n"
     ]
    }
   ],
   "source": [
    "fonts_sample = pd.read_csv('fonts_sample.csv')\n",
    "fonts_sample = fonts_sample['Font'].tolist()\n",
    "print('\\u001b[38;5;19m', 'Выведем список используемых шрифтов:', '\\u001b[0m')\n",
    "for i in sorted(fonts_sample):\n",
    "    print('\\u001b[38;5;19m', i, '\\u001b[0m')"
   ]
  },
  {
   "cell_type": "markdown",
   "id": "299218ce-0afe-4c79-bb1d-b5815264d1a0",
   "metadata": {},
   "source": [
    "**По результатам первой части иследования получены изображения букв и символов предоставленных шрифтов. Присутствуют малозначимые символы изображения которые могут не идентифицироваться с конкретным шрифтом. Использование их при построении модели приведет к неточностям. Создадим список наименований этих символов и удалим их из данных для обучения.**"
   ]
  },
  {
   "cell_type": "code",
   "execution_count": 4,
   "id": "0451ef64-d52e-43aa-97c7-2a4edd16d955",
   "metadata": {},
   "outputs": [],
   "source": [
    "excess_index=[]\n",
    "for  i in range(1, 13+1):\n",
    "    excess_index.append(i)\n",
    "excess_index.append(15+1)\n",
    "excess_index.append(19+1)\n",
    "excess_index.append(20+1)\n",
    "for  i in range(225, 227+1):\n",
    "    excess_index.append(i)\n",
    "excess_index.append(230)\n",
    "excess_index.append(234)\n",
    "for  i in range(239, 244+1):\n",
    "    excess_index.append(i)\n",
    "excess_index.append(246+1)\n",
    "for  i in range(321, 326+1):\n",
    "    excess_index.append(i)\n",
    "for  i in range(363, 369+1):\n",
    "    excess_index.append(i)\n",
    "excess_index.append(547+1)\n",
    "for  i in range(574, 580+1):\n",
    "    excess_index.append(i)\n",
    "excess_index.append(583+1)\n",
    "excess_index.append(584+1)\n",
    "excess_index.append(598+1)\n",
    "excess_index.append(599+1)\n",
    "for  i in range(654, 659+1):\n",
    "    excess_index.append(i)\n",
    "for  i in range(662, 664+1):\n",
    "    excess_index.append(i)\n",
    "for  i in range(669, 671+1):\n",
    "    excess_index.append(i)\n",
    "for  i in range(745, 750+1):\n",
    "    excess_index.append(i)\n",
    "for  i in range(813, 822+1):\n",
    "    excess_index.append(i)\n",
    "excess_index.append(895+1)\n",
    "excess_index.append(896+1)\n",
    "excess_index.append(899+1)\n",
    "excess_index.append(904+1)\n",
    "excess_index.append(906+1)\n",
    "excess_index.append(913+1)\n",
    "for  i in range(927, 938+1):\n",
    "    excess_index.append(i)"
   ]
  },
  {
   "cell_type": "code",
   "execution_count": 5,
   "id": "d8e755d8-b1a7-4e4d-82f5-401cb68da2bd",
   "metadata": {},
   "outputs": [
    {
     "data": {
      "text/html": [
       "<style type=\"text/css\">\n",
       "</style>\n",
       "<table id=\"T_373fd\">\n",
       "  <thead>\n",
       "    <tr>\n",
       "      <th class=\"blank level0\" >&nbsp;</th>\n",
       "      <th id=\"T_373fd_level0_col0\" class=\"col_heading level0 col0\" >Letter</th>\n",
       "      <th id=\"T_373fd_level0_col1\" class=\"col_heading level0 col1\" >Font</th>\n",
       "    </tr>\n",
       "  </thead>\n",
       "  <tbody>\n",
       "    <tr>\n",
       "      <th id=\"T_373fd_level0_row0\" class=\"row_heading level0 row0\" >0</th>\n",
       "      <td id=\"T_373fd_row0_col0\" class=\"data row0 col0\" >1.jpg</td>\n",
       "      <td id=\"T_373fd_row0_col1\" class=\"data row0 col1\" >Aguante</td>\n",
       "    </tr>\n",
       "    <tr>\n",
       "      <th id=\"T_373fd_level0_row1\" class=\"row_heading level0 row1\" >1</th>\n",
       "      <td id=\"T_373fd_row1_col0\" class=\"data row1 col0\" >2.jpg</td>\n",
       "      <td id=\"T_373fd_row1_col1\" class=\"data row1 col1\" >Aguante</td>\n",
       "    </tr>\n",
       "    <tr>\n",
       "      <th id=\"T_373fd_level0_row2\" class=\"row_heading level0 row2\" >2</th>\n",
       "      <td id=\"T_373fd_row2_col0\" class=\"data row2 col0\" >3.jpg</td>\n",
       "      <td id=\"T_373fd_row2_col1\" class=\"data row2 col1\" >Aguante</td>\n",
       "    </tr>\n",
       "    <tr>\n",
       "      <th id=\"T_373fd_level0_row3\" class=\"row_heading level0 row3\" >3</th>\n",
       "      <td id=\"T_373fd_row3_col0\" class=\"data row3 col0\" >4.jpg</td>\n",
       "      <td id=\"T_373fd_row3_col1\" class=\"data row3 col1\" >Aguante</td>\n",
       "    </tr>\n",
       "    <tr>\n",
       "      <th id=\"T_373fd_level0_row4\" class=\"row_heading level0 row4\" >4</th>\n",
       "      <td id=\"T_373fd_row4_col0\" class=\"data row4 col0\" >5.jpg</td>\n",
       "      <td id=\"T_373fd_row4_col1\" class=\"data row4 col1\" >Aguante</td>\n",
       "    </tr>\n",
       "    <tr>\n",
       "      <th id=\"T_373fd_level0_row5\" class=\"row_heading level0 row5\" >5</th>\n",
       "      <td id=\"T_373fd_row5_col0\" class=\"data row5 col0\" >6.jpg</td>\n",
       "      <td id=\"T_373fd_row5_col1\" class=\"data row5 col1\" >Aguante</td>\n",
       "    </tr>\n",
       "    <tr>\n",
       "      <th id=\"T_373fd_level0_row6\" class=\"row_heading level0 row6\" >6</th>\n",
       "      <td id=\"T_373fd_row6_col0\" class=\"data row6 col0\" >7.jpg</td>\n",
       "      <td id=\"T_373fd_row6_col1\" class=\"data row6 col1\" >Aguante</td>\n",
       "    </tr>\n",
       "    <tr>\n",
       "      <th id=\"T_373fd_level0_row7\" class=\"row_heading level0 row7\" >7</th>\n",
       "      <td id=\"T_373fd_row7_col0\" class=\"data row7 col0\" >8.jpg</td>\n",
       "      <td id=\"T_373fd_row7_col1\" class=\"data row7 col1\" >Aguante</td>\n",
       "    </tr>\n",
       "    <tr>\n",
       "      <th id=\"T_373fd_level0_row8\" class=\"row_heading level0 row8\" >8</th>\n",
       "      <td id=\"T_373fd_row8_col0\" class=\"data row8 col0\" >9.jpg</td>\n",
       "      <td id=\"T_373fd_row8_col1\" class=\"data row8 col1\" >Aguante</td>\n",
       "    </tr>\n",
       "    <tr>\n",
       "      <th id=\"T_373fd_level0_row9\" class=\"row_heading level0 row9\" >9</th>\n",
       "      <td id=\"T_373fd_row9_col0\" class=\"data row9 col0\" >10.jpg</td>\n",
       "      <td id=\"T_373fd_row9_col1\" class=\"data row9 col1\" >Aguante</td>\n",
       "    </tr>\n",
       "  </tbody>\n",
       "</table>\n"
      ],
      "text/plain": [
       "<pandas.io.formats.style.Styler at 0x23318d3d610>"
      ]
     },
     "metadata": {},
     "output_type": "display_data"
    }
   ],
   "source": [
    "df_fonts = pd.read_csv('df_fonts.csv')\n",
    "display(df_fonts.head(10).style.background_gradient(cmap='Blues', axis=0))"
   ]
  },
  {
   "cell_type": "code",
   "execution_count": 6,
   "id": "fb4e3642-4c2d-448f-967d-a729e830cf5a",
   "metadata": {},
   "outputs": [
    {
     "data": {
      "text/html": [
       "<div>\n",
       "<style scoped>\n",
       "    .dataframe tbody tr th:only-of-type {\n",
       "        vertical-align: middle;\n",
       "    }\n",
       "\n",
       "    .dataframe tbody tr th {\n",
       "        vertical-align: top;\n",
       "    }\n",
       "\n",
       "    .dataframe thead th {\n",
       "        text-align: right;\n",
       "    }\n",
       "</style>\n",
       "<table border=\"1\" class=\"dataframe\">\n",
       "  <thead>\n",
       "    <tr style=\"text-align: right;\">\n",
       "      <th></th>\n",
       "      <th>Font</th>\n",
       "    </tr>\n",
       "  </thead>\n",
       "  <tbody>\n",
       "    <tr>\n",
       "      <th>0</th>\n",
       "      <td>Aguante</td>\n",
       "    </tr>\n",
       "    <tr>\n",
       "      <th>1</th>\n",
       "      <td>Aguante</td>\n",
       "    </tr>\n",
       "    <tr>\n",
       "      <th>2</th>\n",
       "      <td>Aguante</td>\n",
       "    </tr>\n",
       "    <tr>\n",
       "      <th>3</th>\n",
       "      <td>Aguante</td>\n",
       "    </tr>\n",
       "    <tr>\n",
       "      <th>4</th>\n",
       "      <td>Aguante</td>\n",
       "    </tr>\n",
       "    <tr>\n",
       "      <th>5</th>\n",
       "      <td>Aguante</td>\n",
       "    </tr>\n",
       "    <tr>\n",
       "      <th>6</th>\n",
       "      <td>Aguante</td>\n",
       "    </tr>\n",
       "    <tr>\n",
       "      <th>7</th>\n",
       "      <td>Aguante</td>\n",
       "    </tr>\n",
       "    <tr>\n",
       "      <th>8</th>\n",
       "      <td>Aguante</td>\n",
       "    </tr>\n",
       "    <tr>\n",
       "      <th>9</th>\n",
       "      <td>Aguante</td>\n",
       "    </tr>\n",
       "  </tbody>\n",
       "</table>\n",
       "</div>"
      ],
      "text/plain": [
       "      Font\n",
       "0  Aguante\n",
       "1  Aguante\n",
       "2  Aguante\n",
       "3  Aguante\n",
       "4  Aguante\n",
       "5  Aguante\n",
       "6  Aguante\n",
       "7  Aguante\n",
       "8  Aguante\n",
       "9  Aguante"
      ]
     },
     "execution_count": 6,
     "metadata": {},
     "output_type": "execute_result"
    }
   ],
   "source": [
    "data = pd.DataFrame(df_fonts, columns=['Font'])\n",
    "data = data.reset_index()\n",
    "del data['index']\n",
    "data.head(10)"
   ]
  },
  {
   "cell_type": "code",
   "execution_count": 7,
   "id": "49476ed3-00c7-410f-8524-fafeaf9ad1ef",
   "metadata": {},
   "outputs": [],
   "source": [
    "images_list = []\n",
    "for i in range(1, len(data)+1):\n",
    "    img_path = 'fonts_sample_img/'+str(i)+'.jpg'\n",
    "    img = cv2.imread(img_path, cv2.IMREAD_GRAYSCALE)\n",
    "    images_list.append(img)"
   ]
  },
  {
   "cell_type": "code",
   "execution_count": 8,
   "id": "3b95d509-bc14-4301-94ca-ce4a8ab8ae61",
   "metadata": {},
   "outputs": [],
   "source": [
    "X = np.array(images_list)/255\n",
    "X = X.astype('float32')"
   ]
  },
  {
   "cell_type": "code",
   "execution_count": 9,
   "id": "f57c52cf-1f64-4d13-bdb0-f5bb8a9549bc",
   "metadata": {},
   "outputs": [],
   "source": [
    "encoder = OneHotEncoder(handle_unknown='ignore')\n",
    "encoder_df = pd.DataFrame(encoder. fit_transform(data[['Font']]). toarray ())\n",
    "data_df = data.join(encoder_df)\n",
    "data_df.drop('Font', axis= 1, inplace= True )\n",
    "data_new = data_df.values"
   ]
  },
  {
   "cell_type": "code",
   "execution_count": 10,
   "id": "e72a1251-3663-4603-9321-3a8dccb1174c",
   "metadata": {},
   "outputs": [],
   "source": [
    "(X_train, X_test, y_train, y_test) = train_test_split(X, data_new, test_size=0.25, random_state=42)"
   ]
  },
  {
   "cell_type": "code",
   "execution_count": 11,
   "id": "1e35efbd-49ea-4a87-9502-68b30d3a9395",
   "metadata": {},
   "outputs": [
    {
     "data": {
      "text/html": [
       "<pre style=\"white-space:pre;overflow-x:auto;line-height:normal;font-family:Menlo,'DejaVu Sans Mono',consolas,'Courier New',monospace\"><span style=\"font-weight: bold\">Model: \"sequential\"</span>\n",
       "</pre>\n"
      ],
      "text/plain": [
       "\u001b[1mModel: \"sequential\"\u001b[0m\n"
      ]
     },
     "metadata": {},
     "output_type": "display_data"
    },
    {
     "data": {
      "text/html": [
       "<pre style=\"white-space:pre;overflow-x:auto;line-height:normal;font-family:Menlo,'DejaVu Sans Mono',consolas,'Courier New',monospace\">┏━━━━━━━━━━━━━━━━━━━━━━━━━━━━━━━━━━━━━━┳━━━━━━━━━━━━━━━━━━━━━━━━━━━━━┳━━━━━━━━━━━━━━━━━┓\n",
       "┃<span style=\"font-weight: bold\"> Layer (type)                         </span>┃<span style=\"font-weight: bold\"> Output Shape                </span>┃<span style=\"font-weight: bold\">         Param # </span>┃\n",
       "┡━━━━━━━━━━━━━━━━━━━━━━━━━━━━━━━━━━━━━━╇━━━━━━━━━━━━━━━━━━━━━━━━━━━━━╇━━━━━━━━━━━━━━━━━┩\n",
       "│ flatten (<span style=\"color: #0087ff; text-decoration-color: #0087ff\">Flatten</span>)                    │ (<span style=\"color: #00d7ff; text-decoration-color: #00d7ff\">None</span>, <span style=\"color: #00af00; text-decoration-color: #00af00\">171396</span>)              │               <span style=\"color: #00af00; text-decoration-color: #00af00\">0</span> │\n",
       "├──────────────────────────────────────┼─────────────────────────────┼─────────────────┤\n",
       "│ dense (<span style=\"color: #0087ff; text-decoration-color: #0087ff\">Dense</span>)                        │ (<span style=\"color: #00d7ff; text-decoration-color: #00d7ff\">None</span>, <span style=\"color: #00af00; text-decoration-color: #00af00\">128</span>)                 │      <span style=\"color: #00af00; text-decoration-color: #00af00\">21,938,816</span> │\n",
       "├──────────────────────────────────────┼─────────────────────────────┼─────────────────┤\n",
       "│ dense_1 (<span style=\"color: #0087ff; text-decoration-color: #0087ff\">Dense</span>)                      │ (<span style=\"color: #00d7ff; text-decoration-color: #00d7ff\">None</span>, <span style=\"color: #00af00; text-decoration-color: #00af00\">64</span>)                  │           <span style=\"color: #00af00; text-decoration-color: #00af00\">8,256</span> │\n",
       "├──────────────────────────────────────┼─────────────────────────────┼─────────────────┤\n",
       "│ dense_2 (<span style=\"color: #0087ff; text-decoration-color: #0087ff\">Dense</span>)                      │ (<span style=\"color: #00d7ff; text-decoration-color: #00d7ff\">None</span>, <span style=\"color: #00af00; text-decoration-color: #00af00\">15</span>)                  │             <span style=\"color: #00af00; text-decoration-color: #00af00\">975</span> │\n",
       "└──────────────────────────────────────┴─────────────────────────────┴─────────────────┘\n",
       "</pre>\n"
      ],
      "text/plain": [
       "┏━━━━━━━━━━━━━━━━━━━━━━━━━━━━━━━━━━━━━━┳━━━━━━━━━━━━━━━━━━━━━━━━━━━━━┳━━━━━━━━━━━━━━━━━┓\n",
       "┃\u001b[1m \u001b[0m\u001b[1mLayer (type)                        \u001b[0m\u001b[1m \u001b[0m┃\u001b[1m \u001b[0m\u001b[1mOutput Shape               \u001b[0m\u001b[1m \u001b[0m┃\u001b[1m \u001b[0m\u001b[1m        Param #\u001b[0m\u001b[1m \u001b[0m┃\n",
       "┡━━━━━━━━━━━━━━━━━━━━━━━━━━━━━━━━━━━━━━╇━━━━━━━━━━━━━━━━━━━━━━━━━━━━━╇━━━━━━━━━━━━━━━━━┩\n",
       "│ flatten (\u001b[38;5;33mFlatten\u001b[0m)                    │ (\u001b[38;5;45mNone\u001b[0m, \u001b[38;5;34m171396\u001b[0m)              │               \u001b[38;5;34m0\u001b[0m │\n",
       "├──────────────────────────────────────┼─────────────────────────────┼─────────────────┤\n",
       "│ dense (\u001b[38;5;33mDense\u001b[0m)                        │ (\u001b[38;5;45mNone\u001b[0m, \u001b[38;5;34m128\u001b[0m)                 │      \u001b[38;5;34m21,938,816\u001b[0m │\n",
       "├──────────────────────────────────────┼─────────────────────────────┼─────────────────┤\n",
       "│ dense_1 (\u001b[38;5;33mDense\u001b[0m)                      │ (\u001b[38;5;45mNone\u001b[0m, \u001b[38;5;34m64\u001b[0m)                  │           \u001b[38;5;34m8,256\u001b[0m │\n",
       "├──────────────────────────────────────┼─────────────────────────────┼─────────────────┤\n",
       "│ dense_2 (\u001b[38;5;33mDense\u001b[0m)                      │ (\u001b[38;5;45mNone\u001b[0m, \u001b[38;5;34m15\u001b[0m)                  │             \u001b[38;5;34m975\u001b[0m │\n",
       "└──────────────────────────────────────┴─────────────────────────────┴─────────────────┘\n"
      ]
     },
     "metadata": {},
     "output_type": "display_data"
    },
    {
     "data": {
      "text/html": [
       "<pre style=\"white-space:pre;overflow-x:auto;line-height:normal;font-family:Menlo,'DejaVu Sans Mono',consolas,'Courier New',monospace\"><span style=\"font-weight: bold\"> Total params: </span><span style=\"color: #00af00; text-decoration-color: #00af00\">21,948,047</span> (83.73 MB)\n",
       "</pre>\n"
      ],
      "text/plain": [
       "\u001b[1m Total params: \u001b[0m\u001b[38;5;34m21,948,047\u001b[0m (83.73 MB)\n"
      ]
     },
     "metadata": {},
     "output_type": "display_data"
    },
    {
     "data": {
      "text/html": [
       "<pre style=\"white-space:pre;overflow-x:auto;line-height:normal;font-family:Menlo,'DejaVu Sans Mono',consolas,'Courier New',monospace\"><span style=\"font-weight: bold\"> Trainable params: </span><span style=\"color: #00af00; text-decoration-color: #00af00\">21,948,047</span> (83.73 MB)\n",
       "</pre>\n"
      ],
      "text/plain": [
       "\u001b[1m Trainable params: \u001b[0m\u001b[38;5;34m21,948,047\u001b[0m (83.73 MB)\n"
      ]
     },
     "metadata": {},
     "output_type": "display_data"
    },
    {
     "data": {
      "text/html": [
       "<pre style=\"white-space:pre;overflow-x:auto;line-height:normal;font-family:Menlo,'DejaVu Sans Mono',consolas,'Courier New',monospace\"><span style=\"font-weight: bold\"> Non-trainable params: </span><span style=\"color: #00af00; text-decoration-color: #00af00\">0</span> (0.00 B)\n",
       "</pre>\n"
      ],
      "text/plain": [
       "\u001b[1m Non-trainable params: \u001b[0m\u001b[38;5;34m0\u001b[0m (0.00 B)\n"
      ]
     },
     "metadata": {},
     "output_type": "display_data"
    },
    {
     "name": "stdout",
     "output_type": "stream",
     "text": [
      "None\n"
     ]
    }
   ],
   "source": [
    "model = Sequential([\n",
    "    Flatten(input_shape=(414, 414)),\n",
    "    Dense(128, activation='relu'),\n",
    "    Dense(64, activation='relu'),\n",
    "    Dense(15, activation='softmax')\n",
    "])\n",
    "lr=0.01\n",
    "model.compile(optimizer='adam',\n",
    "              loss='categorical_crossentropy',\n",
    "              metrics=['accuracy'])\n",
    "\n",
    "print(model.summary())"
   ]
  },
  {
   "cell_type": "code",
   "execution_count": 12,
   "id": "365f18ea-0fad-4ec4-8e6c-d1550c65fa30",
   "metadata": {},
   "outputs": [
    {
     "name": "stdout",
     "output_type": "stream",
     "text": [
      "Epoch 1/100\n",
      "\u001b[1m25/25\u001b[0m \u001b[32m━━━━━━━━━━━━━━━━━━━━\u001b[0m\u001b[37m\u001b[0m \u001b[1m7s\u001b[0m 229ms/step - accuracy: 0.0749 - loss: 83.6019 - val_accuracy: 0.1358 - val_loss: 25.6093\n",
      "Epoch 2/100\n",
      "\u001b[1m25/25\u001b[0m \u001b[32m━━━━━━━━━━━━━━━━━━━━\u001b[0m\u001b[37m\u001b[0m \u001b[1m6s\u001b[0m 233ms/step - accuracy: 0.1358 - loss: 16.8174 - val_accuracy: 0.1774 - val_loss: 10.8417\n",
      "Epoch 3/100\n",
      "\u001b[1m25/25\u001b[0m \u001b[32m━━━━━━━━━━━━━━━━━━━━\u001b[0m\u001b[37m\u001b[0m \u001b[1m6s\u001b[0m 230ms/step - accuracy: 0.2420 - loss: 8.1327 - val_accuracy: 0.2189 - val_loss: 8.8771\n",
      "Epoch 4/100\n",
      "\u001b[1m25/25\u001b[0m \u001b[32m━━━━━━━━━━━━━━━━━━━━\u001b[0m\u001b[37m\u001b[0m \u001b[1m6s\u001b[0m 230ms/step - accuracy: 0.3174 - loss: 6.1246 - val_accuracy: 0.3057 - val_loss: 6.3363\n",
      "Epoch 5/100\n",
      "\u001b[1m25/25\u001b[0m \u001b[32m━━━━━━━━━━━━━━━━━━━━\u001b[0m\u001b[37m\u001b[0m \u001b[1m6s\u001b[0m 235ms/step - accuracy: 0.3510 - loss: 5.1444 - val_accuracy: 0.3283 - val_loss: 5.3016\n",
      "Epoch 6/100\n",
      "\u001b[1m25/25\u001b[0m \u001b[32m━━━━━━━━━━━━━━━━━━━━\u001b[0m\u001b[37m\u001b[0m \u001b[1m6s\u001b[0m 233ms/step - accuracy: 0.4177 - loss: 3.8732 - val_accuracy: 0.3057 - val_loss: 5.2814\n",
      "Epoch 7/100\n",
      "\u001b[1m25/25\u001b[0m \u001b[32m━━━━━━━━━━━━━━━━━━━━\u001b[0m\u001b[37m\u001b[0m \u001b[1m6s\u001b[0m 237ms/step - accuracy: 0.3923 - loss: 4.9273 - val_accuracy: 0.3245 - val_loss: 8.5695\n",
      "Epoch 8/100\n",
      "\u001b[1m25/25\u001b[0m \u001b[32m━━━━━━━━━━━━━━━━━━━━\u001b[0m\u001b[37m\u001b[0m \u001b[1m6s\u001b[0m 231ms/step - accuracy: 0.4464 - loss: 5.1179 - val_accuracy: 0.3925 - val_loss: 4.8298\n",
      "Epoch 9/100\n",
      "\u001b[1m25/25\u001b[0m \u001b[32m━━━━━━━━━━━━━━━━━━━━\u001b[0m\u001b[37m\u001b[0m \u001b[1m6s\u001b[0m 231ms/step - accuracy: 0.4469 - loss: 3.1991 - val_accuracy: 0.2453 - val_loss: 8.8222\n",
      "Epoch 10/100\n",
      "\u001b[1m25/25\u001b[0m \u001b[32m━━━━━━━━━━━━━━━━━━━━\u001b[0m\u001b[37m\u001b[0m \u001b[1m6s\u001b[0m 234ms/step - accuracy: 0.4283 - loss: 4.9124 - val_accuracy: 0.3208 - val_loss: 4.9385\n",
      "Epoch 11/100\n",
      "\u001b[1m25/25\u001b[0m \u001b[32m━━━━━━━━━━━━━━━━━━━━\u001b[0m\u001b[37m\u001b[0m \u001b[1m6s\u001b[0m 231ms/step - accuracy: 0.5765 - loss: 2.3052 - val_accuracy: 0.3962 - val_loss: 4.6279\n",
      "Epoch 12/100\n",
      "\u001b[1m25/25\u001b[0m \u001b[32m━━━━━━━━━━━━━━━━━━━━\u001b[0m\u001b[37m\u001b[0m \u001b[1m6s\u001b[0m 233ms/step - accuracy: 0.5189 - loss: 2.6820 - val_accuracy: 0.3736 - val_loss: 3.3762\n",
      "Epoch 13/100\n",
      "\u001b[1m25/25\u001b[0m \u001b[32m━━━━━━━━━━━━━━━━━━━━\u001b[0m\u001b[37m\u001b[0m \u001b[1m6s\u001b[0m 233ms/step - accuracy: 0.5398 - loss: 2.2497 - val_accuracy: 0.2528 - val_loss: 6.8652\n",
      "Epoch 14/100\n",
      "\u001b[1m25/25\u001b[0m \u001b[32m━━━━━━━━━━━━━━━━━━━━\u001b[0m\u001b[37m\u001b[0m \u001b[1m6s\u001b[0m 234ms/step - accuracy: 0.5283 - loss: 2.3788 - val_accuracy: 0.4566 - val_loss: 3.4351\n",
      "Epoch 15/100\n",
      "\u001b[1m25/25\u001b[0m \u001b[32m━━━━━━━━━━━━━━━━━━━━\u001b[0m\u001b[37m\u001b[0m \u001b[1m6s\u001b[0m 233ms/step - accuracy: 0.6197 - loss: 1.8679 - val_accuracy: 0.3925 - val_loss: 3.0828\n",
      "Epoch 16/100\n",
      "\u001b[1m25/25\u001b[0m \u001b[32m━━━━━━━━━━━━━━━━━━━━\u001b[0m\u001b[37m\u001b[0m \u001b[1m6s\u001b[0m 231ms/step - accuracy: 0.6360 - loss: 1.5447 - val_accuracy: 0.3698 - val_loss: 4.8019\n",
      "Epoch 17/100\n",
      "\u001b[1m25/25\u001b[0m \u001b[32m━━━━━━━━━━━━━━━━━━━━\u001b[0m\u001b[37m\u001b[0m \u001b[1m6s\u001b[0m 233ms/step - accuracy: 0.5955 - loss: 2.2154 - val_accuracy: 0.3887 - val_loss: 4.1115\n",
      "Epoch 18/100\n",
      "\u001b[1m25/25\u001b[0m \u001b[32m━━━━━━━━━━━━━━━━━━━━\u001b[0m\u001b[37m\u001b[0m \u001b[1m6s\u001b[0m 235ms/step - accuracy: 0.6180 - loss: 1.6115 - val_accuracy: 0.4566 - val_loss: 3.3276\n",
      "Epoch 19/100\n",
      "\u001b[1m25/25\u001b[0m \u001b[32m━━━━━━━━━━━━━━━━━━━━\u001b[0m\u001b[37m\u001b[0m \u001b[1m6s\u001b[0m 231ms/step - accuracy: 0.6177 - loss: 1.7302 - val_accuracy: 0.4377 - val_loss: 3.5150\n",
      "Epoch 20/100\n",
      "\u001b[1m25/25\u001b[0m \u001b[32m━━━━━━━━━━━━━━━━━━━━\u001b[0m\u001b[37m\u001b[0m \u001b[1m6s\u001b[0m 232ms/step - accuracy: 0.6867 - loss: 1.2279 - val_accuracy: 0.4528 - val_loss: 3.1542\n",
      "Epoch 21/100\n",
      "\u001b[1m25/25\u001b[0m \u001b[32m━━━━━━━━━━━━━━━━━━━━\u001b[0m\u001b[37m\u001b[0m \u001b[1m6s\u001b[0m 231ms/step - accuracy: 0.6512 - loss: 1.4753 - val_accuracy: 0.3170 - val_loss: 5.5964\n",
      "Epoch 22/100\n",
      "\u001b[1m25/25\u001b[0m \u001b[32m━━━━━━━━━━━━━━━━━━━━\u001b[0m\u001b[37m\u001b[0m \u001b[1m6s\u001b[0m 234ms/step - accuracy: 0.6164 - loss: 2.0155 - val_accuracy: 0.4415 - val_loss: 2.8587\n",
      "Epoch 23/100\n",
      "\u001b[1m25/25\u001b[0m \u001b[32m━━━━━━━━━━━━━━━━━━━━\u001b[0m\u001b[37m\u001b[0m \u001b[1m6s\u001b[0m 233ms/step - accuracy: 0.7453 - loss: 0.8412 - val_accuracy: 0.4377 - val_loss: 2.6486\n",
      "Epoch 24/100\n",
      "\u001b[1m25/25\u001b[0m \u001b[32m━━━━━━━━━━━━━━━━━━━━\u001b[0m\u001b[37m\u001b[0m \u001b[1m6s\u001b[0m 232ms/step - accuracy: 0.7013 - loss: 1.1058 - val_accuracy: 0.4113 - val_loss: 4.7767\n",
      "Epoch 25/100\n",
      "\u001b[1m25/25\u001b[0m \u001b[32m━━━━━━━━━━━━━━━━━━━━\u001b[0m\u001b[37m\u001b[0m \u001b[1m6s\u001b[0m 236ms/step - accuracy: 0.7105 - loss: 1.1907 - val_accuracy: 0.4868 - val_loss: 3.3858\n",
      "Epoch 26/100\n",
      "\u001b[1m25/25\u001b[0m \u001b[32m━━━━━━━━━━━━━━━━━━━━\u001b[0m\u001b[37m\u001b[0m \u001b[1m6s\u001b[0m 237ms/step - accuracy: 0.7502 - loss: 0.9871 - val_accuracy: 0.4189 - val_loss: 3.6627\n",
      "Epoch 27/100\n",
      "\u001b[1m25/25\u001b[0m \u001b[32m━━━━━━━━━━━━━━━━━━━━\u001b[0m\u001b[37m\u001b[0m \u001b[1m6s\u001b[0m 238ms/step - accuracy: 0.7644 - loss: 0.9419 - val_accuracy: 0.4717 - val_loss: 2.9286\n",
      "Epoch 28/100\n",
      "\u001b[1m25/25\u001b[0m \u001b[32m━━━━━━━━━━━━━━━━━━━━\u001b[0m\u001b[37m\u001b[0m \u001b[1m6s\u001b[0m 233ms/step - accuracy: 0.8554 - loss: 0.4378 - val_accuracy: 0.5245 - val_loss: 2.3702\n",
      "Epoch 29/100\n",
      "\u001b[1m25/25\u001b[0m \u001b[32m━━━━━━━━━━━━━━━━━━━━\u001b[0m\u001b[37m\u001b[0m \u001b[1m6s\u001b[0m 233ms/step - accuracy: 0.8428 - loss: 0.4968 - val_accuracy: 0.4000 - val_loss: 4.7126\n",
      "Epoch 30/100\n",
      "\u001b[1m25/25\u001b[0m \u001b[32m━━━━━━━━━━━━━━━━━━━━\u001b[0m\u001b[37m\u001b[0m \u001b[1m6s\u001b[0m 235ms/step - accuracy: 0.7231 - loss: 1.1465 - val_accuracy: 0.3698 - val_loss: 4.1861\n",
      "Epoch 31/100\n",
      "\u001b[1m25/25\u001b[0m \u001b[32m━━━━━━━━━━━━━━━━━━━━\u001b[0m\u001b[37m\u001b[0m \u001b[1m6s\u001b[0m 234ms/step - accuracy: 0.6625 - loss: 1.3088 - val_accuracy: 0.4302 - val_loss: 4.5811\n",
      "Epoch 32/100\n",
      "\u001b[1m25/25\u001b[0m \u001b[32m━━━━━━━━━━━━━━━━━━━━\u001b[0m\u001b[37m\u001b[0m \u001b[1m6s\u001b[0m 232ms/step - accuracy: 0.6182 - loss: 1.9410 - val_accuracy: 0.3962 - val_loss: 3.9982\n",
      "Epoch 33/100\n",
      "\u001b[1m25/25\u001b[0m \u001b[32m━━━━━━━━━━━━━━━━━━━━\u001b[0m\u001b[37m\u001b[0m \u001b[1m6s\u001b[0m 234ms/step - accuracy: 0.7074 - loss: 1.2660 - val_accuracy: 0.4528 - val_loss: 3.0142\n",
      "Epoch 34/100\n",
      "\u001b[1m25/25\u001b[0m \u001b[32m━━━━━━━━━━━━━━━━━━━━\u001b[0m\u001b[37m\u001b[0m \u001b[1m6s\u001b[0m 233ms/step - accuracy: 0.8523 - loss: 0.4936 - val_accuracy: 0.4415 - val_loss: 4.0411\n",
      "Epoch 35/100\n",
      "\u001b[1m25/25\u001b[0m \u001b[32m━━━━━━━━━━━━━━━━━━━━\u001b[0m\u001b[37m\u001b[0m \u001b[1m6s\u001b[0m 231ms/step - accuracy: 0.7962 - loss: 0.7215 - val_accuracy: 0.4943 - val_loss: 3.3095\n",
      "Epoch 36/100\n",
      "\u001b[1m25/25\u001b[0m \u001b[32m━━━━━━━━━━━━━━━━━━━━\u001b[0m\u001b[37m\u001b[0m \u001b[1m6s\u001b[0m 246ms/step - accuracy: 0.8293 - loss: 0.6453 - val_accuracy: 0.4377 - val_loss: 3.6159\n",
      "Epoch 37/100\n",
      "\u001b[1m25/25\u001b[0m \u001b[32m━━━━━━━━━━━━━━━━━━━━\u001b[0m\u001b[37m\u001b[0m \u001b[1m6s\u001b[0m 237ms/step - accuracy: 0.8634 - loss: 0.4614 - val_accuracy: 0.4830 - val_loss: 2.8840\n",
      "Epoch 38/100\n",
      "\u001b[1m25/25\u001b[0m \u001b[32m━━━━━━━━━━━━━━━━━━━━\u001b[0m\u001b[37m\u001b[0m \u001b[1m6s\u001b[0m 232ms/step - accuracy: 0.8398 - loss: 0.5581 - val_accuracy: 0.4642 - val_loss: 3.4991\n",
      "Epoch 39/100\n",
      "\u001b[1m25/25\u001b[0m \u001b[32m━━━━━━━━━━━━━━━━━━━━\u001b[0m\u001b[37m\u001b[0m \u001b[1m6s\u001b[0m 238ms/step - accuracy: 0.8147 - loss: 0.6752 - val_accuracy: 0.4453 - val_loss: 3.6624\n",
      "Epoch 40/100\n",
      "\u001b[1m25/25\u001b[0m \u001b[32m━━━━━━━━━━━━━━━━━━━━\u001b[0m\u001b[37m\u001b[0m \u001b[1m6s\u001b[0m 237ms/step - accuracy: 0.7706 - loss: 0.8769 - val_accuracy: 0.4151 - val_loss: 4.8065\n",
      "Epoch 41/100\n",
      "\u001b[1m25/25\u001b[0m \u001b[32m━━━━━━━━━━━━━━━━━━━━\u001b[0m\u001b[37m\u001b[0m \u001b[1m6s\u001b[0m 237ms/step - accuracy: 0.6556 - loss: 1.7102 - val_accuracy: 0.4038 - val_loss: 4.4983\n",
      "Epoch 42/100\n",
      "\u001b[1m25/25\u001b[0m \u001b[32m━━━━━━━━━━━━━━━━━━━━\u001b[0m\u001b[37m\u001b[0m \u001b[1m6s\u001b[0m 238ms/step - accuracy: 0.6427 - loss: 1.8325 - val_accuracy: 0.3358 - val_loss: 6.8915\n",
      "Epoch 43/100\n",
      "\u001b[1m25/25\u001b[0m \u001b[32m━━━━━━━━━━━━━━━━━━━━\u001b[0m\u001b[37m\u001b[0m \u001b[1m6s\u001b[0m 236ms/step - accuracy: 0.6105 - loss: 2.3373 - val_accuracy: 0.3472 - val_loss: 5.5988\n",
      "Epoch 44/100\n",
      "\u001b[1m25/25\u001b[0m \u001b[32m━━━━━━━━━━━━━━━━━━━━\u001b[0m\u001b[37m\u001b[0m \u001b[1m6s\u001b[0m 234ms/step - accuracy: 0.6517 - loss: 1.7464 - val_accuracy: 0.4038 - val_loss: 5.1761\n",
      "Epoch 45/100\n",
      "\u001b[1m25/25\u001b[0m \u001b[32m━━━━━━━━━━━━━━━━━━━━\u001b[0m\u001b[37m\u001b[0m \u001b[1m6s\u001b[0m 234ms/step - accuracy: 0.6906 - loss: 1.6550 - val_accuracy: 0.4906 - val_loss: 3.9807\n",
      "Epoch 46/100\n",
      "\u001b[1m25/25\u001b[0m \u001b[32m━━━━━━━━━━━━━━━━━━━━\u001b[0m\u001b[37m\u001b[0m \u001b[1m6s\u001b[0m 237ms/step - accuracy: 0.7982 - loss: 0.7870 - val_accuracy: 0.4906 - val_loss: 3.0358\n",
      "Epoch 47/100\n",
      "\u001b[1m25/25\u001b[0m \u001b[32m━━━━━━━━━━━━━━━━━━━━\u001b[0m\u001b[37m\u001b[0m \u001b[1m6s\u001b[0m 237ms/step - accuracy: 0.8996 - loss: 0.3830 - val_accuracy: 0.5208 - val_loss: 3.0777\n",
      "Epoch 48/100\n",
      "\u001b[1m25/25\u001b[0m \u001b[32m━━━━━━━━━━━━━━━━━━━━\u001b[0m\u001b[37m\u001b[0m \u001b[1m6s\u001b[0m 238ms/step - accuracy: 0.8618 - loss: 0.4810 - val_accuracy: 0.4792 - val_loss: 3.0216\n",
      "Epoch 49/100\n",
      "\u001b[1m25/25\u001b[0m \u001b[32m━━━━━━━━━━━━━━━━━━━━\u001b[0m\u001b[37m\u001b[0m \u001b[1m6s\u001b[0m 235ms/step - accuracy: 0.8867 - loss: 0.3584 - val_accuracy: 0.4830 - val_loss: 3.4003\n",
      "Epoch 50/100\n",
      "\u001b[1m25/25\u001b[0m \u001b[32m━━━━━━━━━━━━━━━━━━━━\u001b[0m\u001b[37m\u001b[0m \u001b[1m6s\u001b[0m 234ms/step - accuracy: 0.8211 - loss: 0.6390 - val_accuracy: 0.4755 - val_loss: 3.0611\n",
      "Epoch 51/100\n",
      "\u001b[1m25/25\u001b[0m \u001b[32m━━━━━━━━━━━━━━━━━━━━\u001b[0m\u001b[37m\u001b[0m \u001b[1m6s\u001b[0m 238ms/step - accuracy: 0.9096 - loss: 0.3065 - val_accuracy: 0.4566 - val_loss: 3.8292\n",
      "Epoch 52/100\n",
      "\u001b[1m25/25\u001b[0m \u001b[32m━━━━━━━━━━━━━━━━━━━━\u001b[0m\u001b[37m\u001b[0m \u001b[1m6s\u001b[0m 235ms/step - accuracy: 0.8706 - loss: 0.4304 - val_accuracy: 0.4943 - val_loss: 2.7757\n",
      "Epoch 53/100\n",
      "\u001b[1m25/25\u001b[0m \u001b[32m━━━━━━━━━━━━━━━━━━━━\u001b[0m\u001b[37m\u001b[0m \u001b[1m6s\u001b[0m 235ms/step - accuracy: 0.9420 - loss: 0.2123 - val_accuracy: 0.4604 - val_loss: 3.8248\n",
      "Epoch 54/100\n",
      "\u001b[1m25/25\u001b[0m \u001b[32m━━━━━━━━━━━━━━━━━━━━\u001b[0m\u001b[37m\u001b[0m \u001b[1m6s\u001b[0m 239ms/step - accuracy: 0.8707 - loss: 0.4666 - val_accuracy: 0.5019 - val_loss: 3.6271\n",
      "Epoch 55/100\n",
      "\u001b[1m25/25\u001b[0m \u001b[32m━━━━━━━━━━━━━━━━━━━━\u001b[0m\u001b[37m\u001b[0m \u001b[1m6s\u001b[0m 235ms/step - accuracy: 0.8437 - loss: 0.4655 - val_accuracy: 0.4906 - val_loss: 2.6172\n",
      "Epoch 56/100\n",
      "\u001b[1m25/25\u001b[0m \u001b[32m━━━━━━━━━━━━━━━━━━━━\u001b[0m\u001b[37m\u001b[0m \u001b[1m6s\u001b[0m 235ms/step - accuracy: 0.8968 - loss: 0.3717 - val_accuracy: 0.4906 - val_loss: 3.6048\n",
      "Epoch 57/100\n",
      "\u001b[1m25/25\u001b[0m \u001b[32m━━━━━━━━━━━━━━━━━━━━\u001b[0m\u001b[37m\u001b[0m \u001b[1m6s\u001b[0m 236ms/step - accuracy: 0.9370 - loss: 0.2088 - val_accuracy: 0.5170 - val_loss: 2.6305\n",
      "Epoch 58/100\n",
      "\u001b[1m25/25\u001b[0m \u001b[32m━━━━━━━━━━━━━━━━━━━━\u001b[0m\u001b[37m\u001b[0m \u001b[1m6s\u001b[0m 239ms/step - accuracy: 0.9722 - loss: 0.1272 - val_accuracy: 0.5208 - val_loss: 2.5828\n",
      "Epoch 59/100\n",
      "\u001b[1m25/25\u001b[0m \u001b[32m━━━━━━━━━━━━━━━━━━━━\u001b[0m\u001b[37m\u001b[0m \u001b[1m6s\u001b[0m 238ms/step - accuracy: 0.9602 - loss: 0.1638 - val_accuracy: 0.5057 - val_loss: 2.9085\n",
      "Epoch 60/100\n",
      "\u001b[1m25/25\u001b[0m \u001b[32m━━━━━━━━━━━━━━━━━━━━\u001b[0m\u001b[37m\u001b[0m \u001b[1m6s\u001b[0m 237ms/step - accuracy: 0.9513 - loss: 0.1519 - val_accuracy: 0.5170 - val_loss: 3.0200\n",
      "Epoch 61/100\n",
      "\u001b[1m25/25\u001b[0m \u001b[32m━━━━━━━━━━━━━━━━━━━━\u001b[0m\u001b[37m\u001b[0m \u001b[1m6s\u001b[0m 235ms/step - accuracy: 0.8918 - loss: 0.3880 - val_accuracy: 0.4906 - val_loss: 3.4087\n",
      "Epoch 62/100\n",
      "\u001b[1m25/25\u001b[0m \u001b[32m━━━━━━━━━━━━━━━━━━━━\u001b[0m\u001b[37m\u001b[0m \u001b[1m6s\u001b[0m 235ms/step - accuracy: 0.8160 - loss: 0.6587 - val_accuracy: 0.4943 - val_loss: 3.3559\n",
      "Epoch 63/100\n",
      "\u001b[1m25/25\u001b[0m \u001b[32m━━━━━━━━━━━━━━━━━━━━\u001b[0m\u001b[37m\u001b[0m \u001b[1m6s\u001b[0m 234ms/step - accuracy: 0.8611 - loss: 0.4864 - val_accuracy: 0.4906 - val_loss: 4.5229\n",
      "Epoch 64/100\n",
      "\u001b[1m25/25\u001b[0m \u001b[32m━━━━━━━━━━━━━━━━━━━━\u001b[0m\u001b[37m\u001b[0m \u001b[1m6s\u001b[0m 236ms/step - accuracy: 0.8237 - loss: 0.5898 - val_accuracy: 0.4642 - val_loss: 3.0348\n",
      "Epoch 65/100\n",
      "\u001b[1m25/25\u001b[0m \u001b[32m━━━━━━━━━━━━━━━━━━━━\u001b[0m\u001b[37m\u001b[0m \u001b[1m6s\u001b[0m 234ms/step - accuracy: 0.9453 - loss: 0.1839 - val_accuracy: 0.5208 - val_loss: 3.0050\n",
      "Epoch 66/100\n",
      "\u001b[1m25/25\u001b[0m \u001b[32m━━━━━━━━━━━━━━━━━━━━\u001b[0m\u001b[37m\u001b[0m \u001b[1m6s\u001b[0m 240ms/step - accuracy: 0.8682 - loss: 0.5560 - val_accuracy: 0.4151 - val_loss: 4.5469\n",
      "Epoch 67/100\n",
      "\u001b[1m25/25\u001b[0m \u001b[32m━━━━━━━━━━━━━━━━━━━━\u001b[0m\u001b[37m\u001b[0m \u001b[1m6s\u001b[0m 234ms/step - accuracy: 0.8217 - loss: 0.5832 - val_accuracy: 0.4792 - val_loss: 3.4372\n",
      "Epoch 68/100\n",
      "\u001b[1m25/25\u001b[0m \u001b[32m━━━━━━━━━━━━━━━━━━━━\u001b[0m\u001b[37m\u001b[0m \u001b[1m6s\u001b[0m 235ms/step - accuracy: 0.8941 - loss: 0.3723 - val_accuracy: 0.5057 - val_loss: 3.3028\n",
      "Epoch 69/100\n",
      "\u001b[1m25/25\u001b[0m \u001b[32m━━━━━━━━━━━━━━━━━━━━\u001b[0m\u001b[37m\u001b[0m \u001b[1m6s\u001b[0m 234ms/step - accuracy: 0.8644 - loss: 0.4223 - val_accuracy: 0.4906 - val_loss: 3.1124\n",
      "Epoch 70/100\n",
      "\u001b[1m25/25\u001b[0m \u001b[32m━━━━━━━━━━━━━━━━━━━━\u001b[0m\u001b[37m\u001b[0m \u001b[1m6s\u001b[0m 235ms/step - accuracy: 0.9327 - loss: 0.2121 - val_accuracy: 0.5623 - val_loss: 2.7038\n",
      "Epoch 71/100\n",
      "\u001b[1m25/25\u001b[0m \u001b[32m━━━━━━━━━━━━━━━━━━━━\u001b[0m\u001b[37m\u001b[0m \u001b[1m6s\u001b[0m 235ms/step - accuracy: 0.9294 - loss: 0.1920 - val_accuracy: 0.5208 - val_loss: 2.9733\n",
      "Epoch 72/100\n",
      "\u001b[1m25/25\u001b[0m \u001b[32m━━━━━━━━━━━━━━━━━━━━\u001b[0m\u001b[37m\u001b[0m \u001b[1m6s\u001b[0m 234ms/step - accuracy: 0.9661 - loss: 0.1422 - val_accuracy: 0.5245 - val_loss: 2.9008\n",
      "Epoch 73/100\n",
      "\u001b[1m25/25\u001b[0m \u001b[32m━━━━━━━━━━━━━━━━━━━━\u001b[0m\u001b[37m\u001b[0m \u001b[1m6s\u001b[0m 235ms/step - accuracy: 0.9711 - loss: 0.1006 - val_accuracy: 0.5245 - val_loss: 3.1315\n",
      "Epoch 74/100\n",
      "\u001b[1m25/25\u001b[0m \u001b[32m━━━━━━━━━━━━━━━━━━━━\u001b[0m\u001b[37m\u001b[0m \u001b[1m6s\u001b[0m 236ms/step - accuracy: 0.9394 - loss: 0.2049 - val_accuracy: 0.4377 - val_loss: 3.4738\n",
      "Epoch 75/100\n",
      "\u001b[1m25/25\u001b[0m \u001b[32m━━━━━━━━━━━━━━━━━━━━\u001b[0m\u001b[37m\u001b[0m \u001b[1m6s\u001b[0m 238ms/step - accuracy: 0.9056 - loss: 0.3374 - val_accuracy: 0.4868 - val_loss: 3.9744\n",
      "Epoch 76/100\n",
      "\u001b[1m25/25\u001b[0m \u001b[32m━━━━━━━━━━━━━━━━━━━━\u001b[0m\u001b[37m\u001b[0m \u001b[1m6s\u001b[0m 236ms/step - accuracy: 0.9222 - loss: 0.2446 - val_accuracy: 0.5057 - val_loss: 3.3104\n",
      "Epoch 77/100\n",
      "\u001b[1m25/25\u001b[0m \u001b[32m━━━━━━━━━━━━━━━━━━━━\u001b[0m\u001b[37m\u001b[0m \u001b[1m6s\u001b[0m 237ms/step - accuracy: 0.9226 - loss: 0.2436 - val_accuracy: 0.5283 - val_loss: 2.7006\n",
      "Epoch 78/100\n",
      "\u001b[1m25/25\u001b[0m \u001b[32m━━━━━━━━━━━━━━━━━━━━\u001b[0m\u001b[37m\u001b[0m \u001b[1m6s\u001b[0m 237ms/step - accuracy: 0.9814 - loss: 0.0792 - val_accuracy: 0.5245 - val_loss: 2.7738\n",
      "Epoch 79/100\n",
      "\u001b[1m25/25\u001b[0m \u001b[32m━━━━━━━━━━━━━━━━━━━━\u001b[0m\u001b[37m\u001b[0m \u001b[1m6s\u001b[0m 235ms/step - accuracy: 0.9861 - loss: 0.0725 - val_accuracy: 0.5094 - val_loss: 3.1453\n",
      "Epoch 80/100\n",
      "\u001b[1m25/25\u001b[0m \u001b[32m━━━━━━━━━━━━━━━━━━━━\u001b[0m\u001b[37m\u001b[0m \u001b[1m6s\u001b[0m 237ms/step - accuracy: 0.9153 - loss: 0.3007 - val_accuracy: 0.5019 - val_loss: 3.5273\n",
      "Epoch 81/100\n",
      "\u001b[1m25/25\u001b[0m \u001b[32m━━━━━━━━━━━━━━━━━━━━\u001b[0m\u001b[37m\u001b[0m \u001b[1m6s\u001b[0m 237ms/step - accuracy: 0.9240 - loss: 0.1959 - val_accuracy: 0.5585 - val_loss: 2.8687\n",
      "Epoch 82/100\n",
      "\u001b[1m25/25\u001b[0m \u001b[32m━━━━━━━━━━━━━━━━━━━━\u001b[0m\u001b[37m\u001b[0m \u001b[1m6s\u001b[0m 235ms/step - accuracy: 0.9922 - loss: 0.0610 - val_accuracy: 0.5283 - val_loss: 2.8729\n",
      "Epoch 83/100\n",
      "\u001b[1m25/25\u001b[0m \u001b[32m━━━━━━━━━━━━━━━━━━━━\u001b[0m\u001b[37m\u001b[0m \u001b[1m6s\u001b[0m 235ms/step - accuracy: 0.9897 - loss: 0.0520 - val_accuracy: 0.5132 - val_loss: 2.8647\n",
      "Epoch 84/100\n",
      "\u001b[1m25/25\u001b[0m \u001b[32m━━━━━━━━━━━━━━━━━━━━\u001b[0m\u001b[37m\u001b[0m \u001b[1m6s\u001b[0m 236ms/step - accuracy: 0.9815 - loss: 0.0641 - val_accuracy: 0.5094 - val_loss: 2.9249\n",
      "Epoch 85/100\n",
      "\u001b[1m25/25\u001b[0m \u001b[32m━━━━━━━━━━━━━━━━━━━━\u001b[0m\u001b[37m\u001b[0m \u001b[1m6s\u001b[0m 236ms/step - accuracy: 0.9842 - loss: 0.0779 - val_accuracy: 0.5358 - val_loss: 2.7332\n",
      "Epoch 86/100\n",
      "\u001b[1m25/25\u001b[0m \u001b[32m━━━━━━━━━━━━━━━━━━━━\u001b[0m\u001b[37m\u001b[0m \u001b[1m6s\u001b[0m 239ms/step - accuracy: 0.9690 - loss: 0.1216 - val_accuracy: 0.5434 - val_loss: 2.8391\n",
      "Epoch 87/100\n",
      "\u001b[1m25/25\u001b[0m \u001b[32m━━━━━━━━━━━━━━━━━━━━\u001b[0m\u001b[37m\u001b[0m \u001b[1m6s\u001b[0m 234ms/step - accuracy: 0.9494 - loss: 0.1476 - val_accuracy: 0.4981 - val_loss: 3.4855\n",
      "Epoch 88/100\n",
      "\u001b[1m25/25\u001b[0m \u001b[32m━━━━━━━━━━━━━━━━━━━━\u001b[0m\u001b[37m\u001b[0m \u001b[1m6s\u001b[0m 235ms/step - accuracy: 0.9696 - loss: 0.1108 - val_accuracy: 0.5094 - val_loss: 2.6785\n",
      "Epoch 89/100\n",
      "\u001b[1m25/25\u001b[0m \u001b[32m━━━━━━━━━━━━━━━━━━━━\u001b[0m\u001b[37m\u001b[0m \u001b[1m6s\u001b[0m 236ms/step - accuracy: 0.9810 - loss: 0.0679 - val_accuracy: 0.5094 - val_loss: 2.8267\n",
      "Epoch 90/100\n",
      "\u001b[1m25/25\u001b[0m \u001b[32m━━━━━━━━━━━━━━━━━━━━\u001b[0m\u001b[37m\u001b[0m \u001b[1m6s\u001b[0m 237ms/step - accuracy: 0.9787 - loss: 0.0782 - val_accuracy: 0.5396 - val_loss: 2.8966\n",
      "Epoch 91/100\n",
      "\u001b[1m25/25\u001b[0m \u001b[32m━━━━━━━━━━━━━━━━━━━━\u001b[0m\u001b[37m\u001b[0m \u001b[1m6s\u001b[0m 235ms/step - accuracy: 0.9663 - loss: 0.1014 - val_accuracy: 0.5434 - val_loss: 2.8400\n",
      "Epoch 92/100\n",
      "\u001b[1m25/25\u001b[0m \u001b[32m━━━━━━━━━━━━━━━━━━━━\u001b[0m\u001b[37m\u001b[0m \u001b[1m6s\u001b[0m 238ms/step - accuracy: 0.9840 - loss: 0.0684 - val_accuracy: 0.5472 - val_loss: 2.9432\n",
      "Epoch 93/100\n",
      "\u001b[1m25/25\u001b[0m \u001b[32m━━━━━━━━━━━━━━━━━━━━\u001b[0m\u001b[37m\u001b[0m \u001b[1m6s\u001b[0m 236ms/step - accuracy: 0.9762 - loss: 0.0908 - val_accuracy: 0.5509 - val_loss: 3.1608\n",
      "Epoch 94/100\n",
      "\u001b[1m25/25\u001b[0m \u001b[32m━━━━━━━━━━━━━━━━━━━━\u001b[0m\u001b[37m\u001b[0m \u001b[1m6s\u001b[0m 233ms/step - accuracy: 0.9698 - loss: 0.0826 - val_accuracy: 0.5472 - val_loss: 2.8179\n",
      "Epoch 95/100\n",
      "\u001b[1m25/25\u001b[0m \u001b[32m━━━━━━━━━━━━━━━━━━━━\u001b[0m\u001b[37m\u001b[0m \u001b[1m6s\u001b[0m 235ms/step - accuracy: 0.9492 - loss: 0.1677 - val_accuracy: 0.4415 - val_loss: 4.0167\n",
      "Epoch 96/100\n",
      "\u001b[1m25/25\u001b[0m \u001b[32m━━━━━━━━━━━━━━━━━━━━\u001b[0m\u001b[37m\u001b[0m \u001b[1m6s\u001b[0m 236ms/step - accuracy: 0.8697 - loss: 0.4179 - val_accuracy: 0.3245 - val_loss: 7.5825\n",
      "Epoch 97/100\n",
      "\u001b[1m25/25\u001b[0m \u001b[32m━━━━━━━━━━━━━━━━━━━━\u001b[0m\u001b[37m\u001b[0m \u001b[1m6s\u001b[0m 234ms/step - accuracy: 0.7174 - loss: 1.6615 - val_accuracy: 0.3698 - val_loss: 6.1510\n",
      "Epoch 98/100\n",
      "\u001b[1m25/25\u001b[0m \u001b[32m━━━━━━━━━━━━━━━━━━━━\u001b[0m\u001b[37m\u001b[0m \u001b[1m6s\u001b[0m 236ms/step - accuracy: 0.8094 - loss: 0.8353 - val_accuracy: 0.4604 - val_loss: 5.6301\n",
      "Epoch 99/100\n",
      "\u001b[1m25/25\u001b[0m \u001b[32m━━━━━━━━━━━━━━━━━━━━\u001b[0m\u001b[37m\u001b[0m \u001b[1m6s\u001b[0m 237ms/step - accuracy: 0.8076 - loss: 0.6970 - val_accuracy: 0.4453 - val_loss: 4.4985\n",
      "Epoch 100/100\n",
      "\u001b[1m25/25\u001b[0m \u001b[32m━━━━━━━━━━━━━━━━━━━━\u001b[0m\u001b[37m\u001b[0m \u001b[1m6s\u001b[0m 236ms/step - accuracy: 0.8667 - loss: 0.4376 - val_accuracy: 0.4528 - val_loss: 4.7176\n"
     ]
    }
   ],
   "source": [
    "history = model.fit(X_train, y_train,\n",
    "          epochs=100,\n",
    "          validation_data=(X_test, y_test))"
   ]
  },
  {
   "cell_type": "code",
   "execution_count": 13,
   "id": "21fcb5af-7432-4bdb-a061-513543c5e95c",
   "metadata": {},
   "outputs": [
    {
     "data": {
      "image/png": "[encoded data removed]",
      "text/plain": [
       "<Figure size 1800x700 with 2 Axes>"
      ]
     },
     "metadata": {},
     "output_type": "display_data"
    }
   ],
   "source": [
    "plt.figure(figsize=(18, 7))\n",
    "plt.subplot(2, 1, 1)\n",
    "plt.plot(history.history['accuracy'], label = 'Точность на обучении', color='blue')\n",
    "plt.plot(history.history['val_accuracy'], label = 'Точность на валидации', color='red')\n",
    "plt.legend()\n",
    "plt.title('Точность на обучающих и валидационных данных', fontsize=16, fontweight=\"bold\", color='blue')\n",
    "\n",
    "plt.subplot(2, 1, 2)\n",
    "plt.plot(history.history['loss'], label = 'Потери на обучении', color='blue')\n",
    "plt.plot(history.history['val_loss'], label = 'Потери на валидации', color='red')\n",
    "plt.legend()\n",
    "plt.title('Потери на обучающих и валидационных данных', fontsize=16, fontweight=\"bold\", color='blue')\n",
    "plt.show()"
   ]
  },
  {
   "cell_type": "code",
   "execution_count": 14,
   "id": "febcef5a-5d3f-4183-9b9d-018bdab9da35",
   "metadata": {},
   "outputs": [
    {
     "name": "stderr",
     "output_type": "stream",
     "text": [
      "WARNING:absl:You are saving your model as an HDF5 file via `model.save()` or `keras.saving.save_model(model)`. This file format is considered legacy. We recommend using instead the native Keras format, e.g. `model.save('my_model.keras')` or `keras.saving.save_model(model, 'my_model.keras')`. \n"
     ]
    }
   ],
   "source": [
    "model.save('model_kvant_1.h5')"
   ]
  },
  {
   "cell_type": "code",
   "execution_count": 15,
   "id": "a9791bed-680f-448d-b3a4-f61bdf31a47f",
   "metadata": {},
   "outputs": [],
   "source": [
    "accuracy=history.history['accuracy']\n",
    "val_accuracy=history.history['val_accuracy']"
   ]
  },
  {
   "cell_type": "code",
   "execution_count": 16,
   "id": "890a397a-5323-4690-8271-008b15362faa",
   "metadata": {},
   "outputs": [
    {
     "name": "stdout",
     "output_type": "stream",
     "text": [
      "\u001b[38;5;19m Точность на обучении max (accuracy) = 0.989924430847168 \u001b[0m\n"
     ]
    }
   ],
   "source": [
    "print('\\u001b[38;5;19m', 'Точность на обучении max (accuracy) =', max(accuracy), '\\u001b[0m')"
   ]
  },
  {
   "cell_type": "code",
   "execution_count": 17,
   "id": "f05aa1c1-b37c-4e9c-98c3-cf9b993992de",
   "metadata": {},
   "outputs": [
    {
     "name": "stdout",
     "output_type": "stream",
     "text": [
      "\u001b[38;5;19m Точность на валидации max (accuracy) = 0.5622641444206238 \u001b[0m\n"
     ]
    }
   ],
   "source": [
    "print('\\u001b[38;5;19m', 'Точность на валидации max (accuracy) =', max(val_accuracy), '\\u001b[0m')"
   ]
  }
 ],
 "metadata": {
  "kernelspec": {
   "display_name": "Python 3 (ipykernel)",
   "language": "python",
   "name": "python3"
  },
  "language_info": {
   "codemirror_mode": {
    "name": "ipython",
    "version": 3
   },
   "file_extension": ".py",
   "mimetype": "text/x-python",
   "name": "python",
   "nbconvert_exporter": "python",
   "pygments_lexer": "ipython3",
   "version": "3.11.7"
  }
 },
 "nbformat": 4,
 "nbformat_minor": 5
}
